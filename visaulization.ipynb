{
 "cells": [
  {
   "cell_type": "code",
   "execution_count": null,
   "metadata": {},
   "outputs": [],
   "source": [
    "import matplotlib.pyplot as plt"
   ]
  },
  {
   "cell_type": "code",
   "execution_count": 2,
   "metadata": {},
   "outputs": [],
   "source": [
    "from sqlalchemy import Column, Integer, String, Float, Date\n",
    "from sqlalchemy.orm import declarative_base\n",
    "\n",
    "Base = declarative_base()\n",
    "\n",
    "class DailySummary(Base):\n",
    "    __tablename__ = 'daily_summary'\n",
    "    id = Column(Integer, primary_key=True)\n",
    "    city = Column(String)\n",
    "    date = Column(Date)\n",
    "    avg_temp = Column(Float)\n",
    "    max_temp = Column(Float)\n",
    "    min_temp = Column(Float)\n",
    "    dominant_condition = Column(String)\n",
    "\n"
   ]
  },
  {
   "cell_type": "code",
   "execution_count": 4,
   "metadata": {},
   "outputs": [],
   "source": [
    "from sqlalchemy import create_engine, Column, Integer, String, Float, Date\n",
    "from sqlalchemy.orm import declarative_base, sessionmaker\n",
    "from datetime import date\n",
    "\n",
    "# Create a base class for declarative models\n",
    "Base = declarative_base()\n",
    "\n",
    "# Define the DailySummary class\n",
    "class DailySummary(Base):\n",
    "    __tablename__ = 'daily_summary'\n",
    "    id = Column(Integer, primary_key=True)\n",
    "    city = Column(String)\n",
    "    date = Column(Date)\n",
    "    avg_temp = Column(Float)\n",
    "    max_temp = Column(Float)\n",
    "    min_temp = Column(Float)\n",
    "    dominant_condition = Column(String)\n",
    "\n",
    "# Step 1: Create the database engine\n",
    "engine = create_engine('sqlite:///weather_data.db')  # You can use another DB like PostgreSQL or MySQL\n",
    "\n",
    "# Step 2: Create the tables in the database\n",
    "Base.metadata.create_all(engine)\n",
    "\n",
    "# Step 3: Create a sessionmaker bound to the engine\n",
    "Session = sessionmaker(bind=engine)\n",
    "\n",
    "# Step 4: Create a session to interact with the database\n",
    "session = Session()\n",
    "\n",
    "# Function to create a new daily weather summary\n",
    "def create_summary(city, avg_temp, max_temp, min_temp, dominant_condition):\n",
    "    summary = DailySummary(\n",
    "        city=city,\n",
    "        date=date.today(),\n",
    "        avg_temp=avg_temp,\n",
    "        max_temp=max_temp,\n",
    "        min_temp=min_temp,\n",
    "        dominant_condition=dominant_condition\n",
    "    )\n",
    "    session.add(summary)\n",
    "    session.commit()\n",
    "\n",
    "# Example usage of the function\n",
    "create_summary('Mumbai', 30.5, 35.0, 25.0, 'Clear')\n"
   ]
  },
  {
   "cell_type": "code",
   "execution_count": 5,
   "metadata": {},
   "outputs": [],
   "source": [
    "def plot_daily_summary(city):\n",
    "    results = session.query(DailySummary).filter(DailySummary.city == city).all()\n",
    "    dates = [r.date for r in results]\n",
    "    avg_temps = [r.avg_temp for r in results]\n",
    "    \n",
    "    plt.plot(dates, avg_temps, label=\"Avg Temperature\")\n",
    "    plt.xlabel(\"Date\")\n",
    "    plt.ylabel(\"Temperature (C)\")\n",
    "    plt.title(f\"Weather Trend for {city}\")\n",
    "    plt.legend()\n",
    "    plt.show()"
   ]
  }
 ],
 "metadata": {
  "kernelspec": {
   "display_name": "Python 3",
   "language": "python",
   "name": "python3"
  },
  "language_info": {
   "codemirror_mode": {
    "name": "ipython",
    "version": 3
   },
   "file_extension": ".py",
   "mimetype": "text/x-python",
   "name": "python",
   "nbconvert_exporter": "python",
   "pygments_lexer": "ipython3",
   "version": "3.10.4"
  }
 },
 "nbformat": 4,
 "nbformat_minor": 2
}
